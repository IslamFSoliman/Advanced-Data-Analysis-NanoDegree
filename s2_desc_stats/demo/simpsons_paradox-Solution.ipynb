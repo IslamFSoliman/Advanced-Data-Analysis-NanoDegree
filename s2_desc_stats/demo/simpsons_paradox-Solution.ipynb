{
 "cells": [
  {
   "cell_type": "markdown",
   "metadata": {
    "collapsed": true
   },
   "source": [
    "# Simpson's Paradox\n",
    "Use `admission_data.csv` for this exercise."
   ]
  },
  {
   "cell_type": "code",
   "execution_count": 4,
   "metadata": {
    "ExecuteTime": {
     "end_time": "2021-06-13T09:48:20.725010Z",
     "start_time": "2021-06-13T09:48:20.634009Z"
    },
    "init_cell": true
   },
   "outputs": [
    {
     "data": {
      "text/html": [
       "<div>\n",
       "<style scoped>\n",
       "    .dataframe tbody tr th:only-of-type {\n",
       "        vertical-align: middle;\n",
       "    }\n",
       "\n",
       "    .dataframe tbody tr th {\n",
       "        vertical-align: top;\n",
       "    }\n",
       "\n",
       "    .dataframe thead th {\n",
       "        text-align: right;\n",
       "    }\n",
       "</style>\n",
       "<table border=\"1\" class=\"dataframe\">\n",
       "  <thead>\n",
       "    <tr style=\"text-align: right;\">\n",
       "      <th></th>\n",
       "      <th>student_id</th>\n",
       "      <th>gender</th>\n",
       "      <th>major</th>\n",
       "      <th>admitted</th>\n",
       "    </tr>\n",
       "  </thead>\n",
       "  <tbody>\n",
       "    <tr>\n",
       "      <th>0</th>\n",
       "      <td>35377</td>\n",
       "      <td>female</td>\n",
       "      <td>Chemistry</td>\n",
       "      <td>False</td>\n",
       "    </tr>\n",
       "    <tr>\n",
       "      <th>1</th>\n",
       "      <td>56105</td>\n",
       "      <td>male</td>\n",
       "      <td>Physics</td>\n",
       "      <td>True</td>\n",
       "    </tr>\n",
       "    <tr>\n",
       "      <th>2</th>\n",
       "      <td>31441</td>\n",
       "      <td>female</td>\n",
       "      <td>Chemistry</td>\n",
       "      <td>False</td>\n",
       "    </tr>\n",
       "    <tr>\n",
       "      <th>3</th>\n",
       "      <td>51765</td>\n",
       "      <td>male</td>\n",
       "      <td>Physics</td>\n",
       "      <td>True</td>\n",
       "    </tr>\n",
       "    <tr>\n",
       "      <th>4</th>\n",
       "      <td>53714</td>\n",
       "      <td>female</td>\n",
       "      <td>Physics</td>\n",
       "      <td>True</td>\n",
       "    </tr>\n",
       "  </tbody>\n",
       "</table>\n",
       "</div>"
      ],
      "text/plain": [
       "   student_id  gender      major  admitted\n",
       "0       35377  female  Chemistry     False\n",
       "1       56105    male    Physics      True\n",
       "2       31441  female  Chemistry     False\n",
       "3       51765    male    Physics      True\n",
       "4       53714  female    Physics      True"
      ]
     },
     "execution_count": 4,
     "metadata": {},
     "output_type": "execute_result"
    }
   ],
   "source": [
    "# Load and view first few lines of dataset\n",
    "import numpy as np\n",
    "import pandas as pd\n",
    "df = pd.read_csv('admission_data.csv')\n",
    "df.head()"
   ]
  },
  {
   "cell_type": "markdown",
   "metadata": {},
   "source": [
    "### Proportion and admission rate for each gender"
   ]
  },
  {
   "cell_type": "code",
   "execution_count": null,
   "metadata": {
    "ExecuteTime": {
     "end_time": "2021-06-12T15:58:39.438449Z",
     "start_time": "2021-06-12T15:58:39.411434Z"
    }
   },
   "outputs": [],
   "source": [
    "# Proportion of students that are female\n",
    "len(df[df['gender'] == 'female'])/df.shape[0]"
   ]
  },
  {
   "cell_type": "code",
   "execution_count": null,
   "metadata": {
    "ExecuteTime": {
     "end_time": "2021-06-12T15:58:39.454434Z",
     "start_time": "2021-06-12T15:58:39.445455Z"
    }
   },
   "outputs": [],
   "source": [
    "# Proportion of students that are male\n",
    "1 - _"
   ]
  },
  {
   "cell_type": "code",
   "execution_count": null,
   "metadata": {
    "ExecuteTime": {
     "end_time": "2021-06-12T15:58:39.486433Z",
     "start_time": "2021-06-12T15:58:39.465435Z"
    }
   },
   "outputs": [],
   "source": [
    "# Admission rate for females\n",
    "df[df['gender'] == 'female']['admitted'].mean()"
   ]
  },
  {
   "cell_type": "code",
   "execution_count": null,
   "metadata": {
    "ExecuteTime": {
     "end_time": "2021-06-12T15:58:39.567435Z",
     "start_time": "2021-06-12T15:58:39.549434Z"
    }
   },
   "outputs": [],
   "source": [
    "# Admission rate for males\n",
    "# admission rates for females appear to be lower\n",
    "df[df['gender'] == 'male']['admitted'].mean()"
   ]
  },
  {
   "cell_type": "markdown",
   "metadata": {},
   "source": [
    "### Proportion and admission rate for physics majors of each gender"
   ]
  },
  {
   "cell_type": "code",
   "execution_count": null,
   "metadata": {
    "ExecuteTime": {
     "end_time": "2021-06-12T15:58:39.612435Z",
     "start_time": "2021-06-12T15:58:39.581436Z"
    }
   },
   "outputs": [],
   "source": [
    "# What proportion of female students are majoring in physics?\n",
    "\n",
    "# given that a student is female, what is the probability they major in physics\n",
    "# that is the proportion of females and physics majors divided by the proportion of females\n",
    "# since the denominators are the same, we can just get counts of each and take the ratio\n",
    "\n",
    "df.query('gender == \"female\" and major == \"Physics\"').count()[\n",
    "    0]/len(df[df['gender'] == 'female'])"
   ]
  },
  {
   "cell_type": "code",
   "execution_count": null,
   "metadata": {
    "ExecuteTime": {
     "end_time": "2021-06-12T15:58:39.644436Z",
     "start_time": "2021-06-12T15:58:39.617438Z"
    }
   },
   "outputs": [],
   "source": [
    "# What proportion of male students are majoring in physics?\n",
    "\n",
    "df.query('gender == \"male\" and major == \"Physics\"').count()[\n",
    "    0]/len(df[df['gender'] == 'male'])  # many more males apply"
   ]
  },
  {
   "cell_type": "code",
   "execution_count": null,
   "metadata": {
    "ExecuteTime": {
     "end_time": "2021-06-12T15:58:39.708434Z",
     "start_time": "2021-06-12T15:58:39.652438Z"
    }
   },
   "outputs": [],
   "source": [
    "# Admission rate for female physics majors\n",
    "\n",
    "# That is what proportion of females who apply in physics are admitted\n",
    "fem_adm_phys = df.query(\n",
    "    'gender == \"female\" and major == \"Physics\" and admitted == True').count()[0]\n",
    "fem_phys = df.query('gender == \"female\" and major == \"Physics\"').count()[0]\n",
    "\n",
    "fem_adm_phys/fem_phys"
   ]
  },
  {
   "cell_type": "code",
   "execution_count": null,
   "metadata": {
    "ExecuteTime": {
     "end_time": "2021-06-12T15:58:39.800436Z",
     "start_time": "2021-06-12T15:58:39.737433Z"
    }
   },
   "outputs": [],
   "source": [
    "# Admission rate for male physics majors\n",
    "\n",
    "# That is what proportion of males who apply in physics are admitted\n",
    "male_adm_phys = df.query(\n",
    "    'gender == \"male\" and major == \"Physics\" and admitted == True').count()[0]\n",
    "male_phys = df.query('gender == \"male\" and major == \"Physics\"').count()[0]\n",
    "\n",
    "male_adm_phys/male_phys  # female admissions in physics are higher"
   ]
  },
  {
   "cell_type": "markdown",
   "metadata": {},
   "source": [
    "### Proportion and admission rate for chemistry majors of each gender"
   ]
  },
  {
   "cell_type": "code",
   "execution_count": null,
   "metadata": {
    "ExecuteTime": {
     "end_time": "2021-06-12T15:58:39.832432Z",
     "start_time": "2021-06-12T15:58:39.807431Z"
    }
   },
   "outputs": [],
   "source": [
    "# What proportion of female students are majoring in chemistry?\n",
    "df.query('gender == \"female\" and major == \"Chemistry\"').count()[\n",
    "    0]/len(df[df['gender'] == 'female'])"
   ]
  },
  {
   "cell_type": "code",
   "execution_count": null,
   "metadata": {
    "ExecuteTime": {
     "end_time": "2021-06-12T15:58:40.020429Z",
     "start_time": "2021-06-12T15:58:39.837432Z"
    }
   },
   "outputs": [],
   "source": [
    "# What proportion of male students are majoring in chemistry?\n",
    "df.query('gender == \"male\" and major == \"Chemistry\"').count()[\n",
    "    0]/len(df[df['gender'] == 'male'])  # many fewer males"
   ]
  },
  {
   "cell_type": "code",
   "execution_count": null,
   "metadata": {
    "ExecuteTime": {
     "end_time": "2021-06-12T15:58:40.068433Z",
     "start_time": "2021-06-12T15:58:40.024434Z"
    }
   },
   "outputs": [],
   "source": [
    "# Admission rate for female chemistry majors\n",
    "fem_adm_chem = df.query(\n",
    "    'gender == \"female\" and major == \"Chemistry\" and admitted == True').count()[0]\n",
    "fem_chem = df.query('gender == \"female\" and major == \"Chemistry\"').count()[0]\n",
    "\n",
    "fem_adm_chem/fem_chem"
   ]
  },
  {
   "cell_type": "code",
   "execution_count": null,
   "metadata": {
    "ExecuteTime": {
     "end_time": "2021-06-12T15:58:40.116432Z",
     "start_time": "2021-06-12T15:58:40.073431Z"
    }
   },
   "outputs": [],
   "source": [
    "# Admission rate for male chemistry majors\n",
    "male_adm_chem = df.query(\n",
    "    'gender == \"male\" and major == \"Chemistry\" and admitted == True').count()[0]\n",
    "male_chem = df.query('gender == \"male\" and major == \"Chemistry\"').count()[0]\n",
    "\n",
    "male_adm_chem/male_chem  # fewer males are admitted into chemistry as well as physics"
   ]
  },
  {
   "cell_type": "markdown",
   "metadata": {},
   "source": [
    "### Admission rate for each major"
   ]
  },
  {
   "cell_type": "code",
   "execution_count": null,
   "metadata": {
    "ExecuteTime": {
     "end_time": "2021-06-12T15:58:40.147442Z",
     "start_time": "2021-06-12T15:58:40.122435Z"
    }
   },
   "outputs": [],
   "source": [
    "# Admission rate for physics majors\n",
    "df[df['major'] == \"Physics\"]['admitted'].mean()"
   ]
  },
  {
   "cell_type": "code",
   "execution_count": null,
   "metadata": {
    "ExecuteTime": {
     "end_time": "2021-06-12T15:58:40.178438Z",
     "start_time": "2021-06-12T15:58:40.153435Z"
    }
   },
   "outputs": [],
   "source": [
    "# Admission rate for chemistry majors\n",
    "df[df['major'] == \"Chemistry\"]['admitted'].mean()"
   ]
  },
  {
   "cell_type": "markdown",
   "metadata": {},
   "source": [
    "Many more females applied to chemistry, which had a lower admissions rate.  Therefore, they had an overall lower admission rate.  Though, females had higher admission rates conditionally in both physics and chemistry.  This is known as **Simpson's Paradox**."
   ]
  },
  {
   "cell_type": "markdown",
   "metadata": {},
   "source": [
    "## Alternative solution"
   ]
  },
  {
   "cell_type": "markdown",
   "metadata": {},
   "source": [
    "can we simplify the above code?"
   ]
  },
  {
   "cell_type": "code",
   "execution_count": null,
   "metadata": {
    "ExecuteTime": {
     "end_time": "2021-06-12T16:02:39.287474Z",
     "start_time": "2021-06-12T16:02:39.216477Z"
    }
   },
   "outputs": [],
   "source": [
    "pd.crosstab(df.major, df.gender, normalize='columns')"
   ]
  },
  {
   "cell_type": "code",
   "execution_count": null,
   "metadata": {
    "ExecuteTime": {
     "end_time": "2021-06-12T16:05:14.827360Z",
     "start_time": "2021-06-12T16:05:14.796467Z"
    }
   },
   "outputs": [],
   "source": [
    "df.groupby(['major', 'gender']).agg({'admitted': 'mean'})"
   ]
  },
  {
   "cell_type": "code",
   "execution_count": null,
   "metadata": {
    "ExecuteTime": {
     "end_time": "2021-06-12T16:06:58.949112Z",
     "start_time": "2021-06-12T16:06:58.907116Z"
    }
   },
   "outputs": [],
   "source": [
    "df.groupby(['major']).agg({'admitted': \"mean\"})"
   ]
  },
  {
   "cell_type": "markdown",
   "metadata": {},
   "source": [
    "# TableOne trial"
   ]
  },
  {
   "cell_type": "code",
   "execution_count": 30,
   "metadata": {
    "ExecuteTime": {
     "end_time": "2021-06-13T11:34:03.783590Z",
     "start_time": "2021-06-13T11:34:03.758613Z"
    }
   },
   "outputs": [
    {
     "name": "stderr",
     "output_type": "stream",
     "text": [
      "C:\\Users\\santarabantoosoo\\miniconda3\\lib\\site-packages\\ipykernel\\ipkernel.py:287: DeprecationWarning: `should_run_async` will not call `transform_cell` automatically in the future. Please pass the result to `transformed_cell` argument and any exception that happen during thetransform in `preprocessing_exc_tuple` in IPython 7.17 and above.\n",
      "  and should_run_async(code)\n"
     ]
    }
   ],
   "source": [
    "from tableone import TableOne"
   ]
  },
  {
   "cell_type": "code",
   "execution_count": 32,
   "metadata": {
    "ExecuteTime": {
     "end_time": "2021-06-13T11:34:13.166172Z",
     "start_time": "2021-06-13T11:34:12.246173Z"
    }
   },
   "outputs": [
    {
     "name": "stderr",
     "output_type": "stream",
     "text": [
      "C:\\Users\\santarabantoosoo\\miniconda3\\lib\\site-packages\\ipykernel\\ipkernel.py:287: DeprecationWarning: `should_run_async` will not call `transform_cell` automatically in the future. Please pass the result to `transformed_cell` argument and any exception that happen during thetransform in `preprocessing_exc_tuple` in IPython 7.17 and above.\n",
      "  and should_run_async(code)\n"
     ]
    },
    {
     "data": {
      "text/html": [
       "<div>\n",
       "<style scoped>\n",
       "    .dataframe tbody tr th:only-of-type {\n",
       "        vertical-align: middle;\n",
       "    }\n",
       "\n",
       "    .dataframe tbody tr th {\n",
       "        vertical-align: top;\n",
       "    }\n",
       "\n",
       "    .dataframe thead th {\n",
       "        text-align: right;\n",
       "    }\n",
       "</style>\n",
       "<table border=\"1\" class=\"dataframe\">\n",
       "  <thead>\n",
       "    <tr style=\"text-align: right;\">\n",
       "      <th></th>\n",
       "      <th></th>\n",
       "      <th>Missing</th>\n",
       "      <th>Overall</th>\n",
       "    </tr>\n",
       "  </thead>\n",
       "  <tbody>\n",
       "    <tr>\n",
       "      <th>n</th>\n",
       "      <th></th>\n",
       "      <td></td>\n",
       "      <td>500</td>\n",
       "    </tr>\n",
       "    <tr>\n",
       "      <th>student_id, mean (SD)</th>\n",
       "      <th></th>\n",
       "      <td>0</td>\n",
       "      <td>41495.1 (10065.3)</td>\n",
       "    </tr>\n",
       "    <tr>\n",
       "      <th rowspan=\"2\" valign=\"top\">gender, n (%)</th>\n",
       "      <th>female</th>\n",
       "      <td>0</td>\n",
       "      <td>257 (51.4)</td>\n",
       "    </tr>\n",
       "    <tr>\n",
       "      <th>male</th>\n",
       "      <td></td>\n",
       "      <td>243 (48.6)</td>\n",
       "    </tr>\n",
       "    <tr>\n",
       "      <th rowspan=\"2\" valign=\"top\">major, n (%)</th>\n",
       "      <th>Chemistry</th>\n",
       "      <td>0</td>\n",
       "      <td>244 (48.8)</td>\n",
       "    </tr>\n",
       "    <tr>\n",
       "      <th>Physics</th>\n",
       "      <td></td>\n",
       "      <td>256 (51.2)</td>\n",
       "    </tr>\n",
       "    <tr>\n",
       "      <th rowspan=\"2\" valign=\"top\">admitted, n (%)</th>\n",
       "      <th>False</th>\n",
       "      <td>0</td>\n",
       "      <td>308 (61.6)</td>\n",
       "    </tr>\n",
       "    <tr>\n",
       "      <th>True</th>\n",
       "      <td></td>\n",
       "      <td>192 (38.4)</td>\n",
       "    </tr>\n",
       "  </tbody>\n",
       "</table>\n",
       "</div><br />"
      ],
      "text/plain": [
       "                                Missing            Overall\n",
       "n                                                      500\n",
       "student_id, mean (SD)                 0  41495.1 (10065.3)\n",
       "gender, n (%)         female          0         257 (51.4)\n",
       "                      male                      243 (48.6)\n",
       "major, n (%)          Chemistry       0         244 (48.8)\n",
       "                      Physics                   256 (51.2)\n",
       "admitted, n (%)       False           0         308 (61.6)\n",
       "                      True                      192 (38.4)"
      ]
     },
     "execution_count": 32,
     "metadata": {},
     "output_type": "execute_result"
    }
   ],
   "source": [
    "mytable = TableOne(df)\n",
    "mytable"
   ]
  },
  {
   "cell_type": "code",
   "execution_count": 34,
   "metadata": {
    "ExecuteTime": {
     "end_time": "2021-06-13T11:34:54.785986Z",
     "start_time": "2021-06-13T11:34:54.415991Z"
    }
   },
   "outputs": [
    {
     "name": "stderr",
     "output_type": "stream",
     "text": [
      "C:\\Users\\santarabantoosoo\\miniconda3\\lib\\site-packages\\ipykernel\\ipkernel.py:287: DeprecationWarning: `should_run_async` will not call `transform_cell` automatically in the future. Please pass the result to `transformed_cell` argument and any exception that happen during thetransform in `preprocessing_exc_tuple` in IPython 7.17 and above.\n",
      "  and should_run_async(code)\n"
     ]
    }
   ],
   "source": [
    "columns = ['gender', 'major', 'admitted']\n",
    "gp = 'gender'\n",
    "\n",
    "mytable = TableOne(df, columns = columns, groupby = gp)"
   ]
  },
  {
   "cell_type": "code",
   "execution_count": 35,
   "metadata": {
    "ExecuteTime": {
     "end_time": "2021-06-13T11:35:01.637987Z",
     "start_time": "2021-06-13T11:35:01.599990Z"
    }
   },
   "outputs": [
    {
     "name": "stderr",
     "output_type": "stream",
     "text": [
      "C:\\Users\\santarabantoosoo\\miniconda3\\lib\\site-packages\\ipykernel\\ipkernel.py:287: DeprecationWarning: `should_run_async` will not call `transform_cell` automatically in the future. Please pass the result to `transformed_cell` argument and any exception that happen during thetransform in `preprocessing_exc_tuple` in IPython 7.17 and above.\n",
      "  and should_run_async(code)\n"
     ]
    },
    {
     "data": {
      "text/html": [
       "<div>\n",
       "<style scoped>\n",
       "    .dataframe tbody tr th:only-of-type {\n",
       "        vertical-align: middle;\n",
       "    }\n",
       "\n",
       "    .dataframe tbody tr th {\n",
       "        vertical-align: top;\n",
       "    }\n",
       "\n",
       "    .dataframe thead tr th {\n",
       "        text-align: left;\n",
       "    }\n",
       "</style>\n",
       "<table border=\"1\" class=\"dataframe\">\n",
       "  <thead>\n",
       "    <tr>\n",
       "      <th></th>\n",
       "      <th></th>\n",
       "      <th colspan=\"4\" halign=\"left\">Grouped by gender</th>\n",
       "    </tr>\n",
       "    <tr>\n",
       "      <th></th>\n",
       "      <th></th>\n",
       "      <th>Missing</th>\n",
       "      <th>Overall</th>\n",
       "      <th>female</th>\n",
       "      <th>male</th>\n",
       "    </tr>\n",
       "  </thead>\n",
       "  <tbody>\n",
       "    <tr>\n",
       "      <th>n</th>\n",
       "      <th></th>\n",
       "      <td></td>\n",
       "      <td>500</td>\n",
       "      <td>257</td>\n",
       "      <td>243</td>\n",
       "    </tr>\n",
       "    <tr>\n",
       "      <th rowspan=\"2\" valign=\"top\">major, n (%)</th>\n",
       "      <th>Chemistry</th>\n",
       "      <td>0</td>\n",
       "      <td>244 (48.8)</td>\n",
       "      <td>226 (87.9)</td>\n",
       "      <td>18 (7.4)</td>\n",
       "    </tr>\n",
       "    <tr>\n",
       "      <th>Physics</th>\n",
       "      <td></td>\n",
       "      <td>256 (51.2)</td>\n",
       "      <td>31 (12.1)</td>\n",
       "      <td>225 (92.6)</td>\n",
       "    </tr>\n",
       "    <tr>\n",
       "      <th rowspan=\"2\" valign=\"top\">admitted, n (%)</th>\n",
       "      <th>False</th>\n",
       "      <td>0</td>\n",
       "      <td>308 (61.6)</td>\n",
       "      <td>183 (71.2)</td>\n",
       "      <td>125 (51.4)</td>\n",
       "    </tr>\n",
       "    <tr>\n",
       "      <th>True</th>\n",
       "      <td></td>\n",
       "      <td>192 (38.4)</td>\n",
       "      <td>74 (28.8)</td>\n",
       "      <td>118 (48.6)</td>\n",
       "    </tr>\n",
       "  </tbody>\n",
       "</table>\n",
       "</div><br />"
      ],
      "text/plain": [
       "                          Grouped by gender                                    \n",
       "                                    Missing     Overall      female        male\n",
       "n                                                   500         257         243\n",
       "major, n (%)    Chemistry                 0  244 (48.8)  226 (87.9)    18 (7.4)\n",
       "                Physics                      256 (51.2)   31 (12.1)  225 (92.6)\n",
       "admitted, n (%) False                     0  308 (61.6)  183 (71.2)  125 (51.4)\n",
       "                True                         192 (38.4)   74 (28.8)  118 (48.6)"
      ]
     },
     "execution_count": 35,
     "metadata": {},
     "output_type": "execute_result"
    }
   ],
   "source": [
    "mytable"
   ]
  }
 ],
 "metadata": {
  "celltoolbar": "Raw Cell Format",
  "kernelspec": {
   "display_name": "Python 3",
   "language": "python",
   "name": "python3"
  },
  "language_info": {
   "codemirror_mode": {
    "name": "ipython",
    "version": 3
   },
   "file_extension": ".py",
   "mimetype": "text/x-python",
   "name": "python",
   "nbconvert_exporter": "python",
   "pygments_lexer": "ipython3",
   "version": "3.8.5"
  },
  "notify_time": "5",
  "toc": {
   "base_numbering": 1,
   "nav_menu": {},
   "number_sections": true,
   "sideBar": true,
   "skip_h1_title": false,
   "title_cell": "Table of Contents",
   "title_sidebar": "Contents",
   "toc_cell": false,
   "toc_position": {},
   "toc_section_display": true,
   "toc_window_display": false
  },
  "varInspector": {
   "cols": {
    "lenName": 16,
    "lenType": 16,
    "lenVar": 40
   },
   "kernels_config": {
    "python": {
     "delete_cmd_postfix": "",
     "delete_cmd_prefix": "del ",
     "library": "var_list.py",
     "varRefreshCmd": "print(var_dic_list())"
    },
    "r": {
     "delete_cmd_postfix": ") ",
     "delete_cmd_prefix": "rm(",
     "library": "var_list.r",
     "varRefreshCmd": "cat(var_dic_list()) "
    }
   },
   "oldHeight": 122,
   "position": {
    "height": "40px",
    "left": "994px",
    "right": "20px",
    "top": "232px",
    "width": "350px"
   },
   "types_to_exclude": [
    "module",
    "function",
    "builtin_function_or_method",
    "instance",
    "_Feature"
   ],
   "varInspector_section_display": "none",
   "window_display": false
  }
 },
 "nbformat": 4,
 "nbformat_minor": 2
}
